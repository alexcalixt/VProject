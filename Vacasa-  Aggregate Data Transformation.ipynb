{
 "cells": [
  {
   "cell_type": "code",
   "execution_count": 1,
   "id": "96c15cd7",
   "metadata": {},
   "outputs": [],
   "source": [
    "import pandas as pd\n",
    "pd.set_option('display.float_format', lambda x: '%.5f' % x) #prevent scientific number display\n",
    "%matplotlib inline"
   ]
  },
  {
   "cell_type": "markdown",
   "id": "b07c0555",
   "metadata": {},
   "source": [
    "# Import Data"
   ]
  },
  {
   "cell_type": "code",
   "execution_count": 165,
   "id": "85ae1779",
   "metadata": {},
   "outputs": [],
   "source": [
    "dataset = pd.read_excel('Dataset.xlsx', sheet_name = 'Data Set')\n",
    "market = pd.read_excel('Dataset.xlsx', sheet_name = 'Market')"
   ]
  },
  {
   "cell_type": "code",
   "execution_count": 3,
   "id": "7137bdc1",
   "metadata": {
    "scrolled": true
   },
   "outputs": [
    {
     "name": "stdout",
     "output_type": "stream",
     "text": [
      "<class 'pandas.core.frame.DataFrame'>\n",
      "RangeIndex: 720 entries, 0 to 719\n",
      "Data columns (total 9 columns):\n",
      " #   Column             Non-Null Count  Dtype\n",
      "---  ------             --------------  -----\n",
      " 0   Market ID          720 non-null    int64\n",
      " 1   Year               720 non-null    int64\n",
      " 2   Month              720 non-null    int64\n",
      " 3   Rent               720 non-null    int64\n",
      " 4   Fees               720 non-null    int64\n",
      " 5   Starting Units     720 non-null    int64\n",
      " 6   New Units          720 non-null    int64\n",
      " 7   Lost Units         720 non-null    int64\n",
      " 8   Total Nights Sold  720 non-null    int64\n",
      "dtypes: int64(9)\n",
      "memory usage: 50.8 KB\n"
     ]
    }
   ],
   "source": [
    "dataset.info()"
   ]
  },
  {
   "cell_type": "code",
   "execution_count": 161,
   "id": "c978713e",
   "metadata": {},
   "outputs": [
    {
     "name": "stdout",
     "output_type": "stream",
     "text": [
      "<class 'pandas.core.frame.DataFrame'>\n",
      "RangeIndex: 20 entries, 0 to 19\n",
      "Data columns (total 2 columns):\n",
      " #   Column    Non-Null Count  Dtype \n",
      "---  ------    --------------  ----- \n",
      " 0   Market    20 non-null     object\n",
      " 1   MarketId  20 non-null     int64 \n",
      "dtypes: int64(1), object(1)\n",
      "memory usage: 448.0+ bytes\n"
     ]
    }
   ],
   "source": [
    "market.info()"
   ]
  },
  {
   "cell_type": "markdown",
   "id": "7f7dd6a2",
   "metadata": {},
   "source": [
    "# Data Processing"
   ]
  },
  {
   "cell_type": "code",
   "execution_count": 169,
   "id": "8db36056",
   "metadata": {},
   "outputs": [
    {
     "name": "stdout",
     "output_type": "stream",
     "text": [
      "<class 'pandas.core.frame.DataFrame'>\n",
      "Int64Index: 720 entries, 0 to 719\n",
      "Data columns (total 9 columns):\n",
      " #   Column             Non-Null Count  Dtype \n",
      "---  ------             --------------  ----- \n",
      " 0   Year               720 non-null    int64 \n",
      " 1   Month              720 non-null    int64 \n",
      " 2   Rent               720 non-null    int64 \n",
      " 3   Fees               720 non-null    int64 \n",
      " 4   Starting Units     720 non-null    int64 \n",
      " 5   New Units          720 non-null    int64 \n",
      " 6   Lost Units         720 non-null    int64 \n",
      " 7   Total Nights Sold  720 non-null    int64 \n",
      " 8   Market             720 non-null    object\n",
      "dtypes: int64(8), object(1)\n",
      "memory usage: 56.2+ KB\n"
     ]
    }
   ],
   "source": [
    "# join the datasets (dataset & market)\n",
    "\n",
    "col_drop = ['MarketId','Market ID']\n",
    "\n",
    "org_data_set = dataset.merge(market, how = 'left', left_on = 'Market ID',\n",
    "            right_on = 'MarketId' ).drop(columns = col_drop )\n",
    "\n",
    "org_data_set.info()"
   ]
  },
  {
   "cell_type": "markdown",
   "id": "71e8ca91",
   "metadata": {},
   "source": [
    "### Aggregate Transformantion"
   ]
  },
  {
   "cell_type": "code",
   "execution_count": 170,
   "id": "2e1a07ce",
   "metadata": {
    "scrolled": true
   },
   "outputs": [
    {
     "data": {
      "text/html": [
       "<div>\n",
       "<style scoped>\n",
       "    .dataframe tbody tr th:only-of-type {\n",
       "        vertical-align: middle;\n",
       "    }\n",
       "\n",
       "    .dataframe tbody tr th {\n",
       "        vertical-align: top;\n",
       "    }\n",
       "\n",
       "    .dataframe thead th {\n",
       "        text-align: right;\n",
       "    }\n",
       "</style>\n",
       "<table border=\"1\" class=\"dataframe\">\n",
       "  <thead>\n",
       "    <tr style=\"text-align: right;\">\n",
       "      <th></th>\n",
       "      <th>Month</th>\n",
       "      <th>Rent</th>\n",
       "      <th>Fees</th>\n",
       "      <th>Total Nights Sold</th>\n",
       "      <th>Starting Units</th>\n",
       "      <th>New Units</th>\n",
       "      <th>Lost Units</th>\n",
       "    </tr>\n",
       "    <tr>\n",
       "      <th>Date</th>\n",
       "      <th></th>\n",
       "      <th></th>\n",
       "      <th></th>\n",
       "      <th></th>\n",
       "      <th></th>\n",
       "      <th></th>\n",
       "      <th></th>\n",
       "    </tr>\n",
       "  </thead>\n",
       "  <tbody>\n",
       "    <tr>\n",
       "      <th>2019-01-31</th>\n",
       "      <td>1</td>\n",
       "      <td>2819632</td>\n",
       "      <td>768131</td>\n",
       "      <td>21058</td>\n",
       "      <td>1965</td>\n",
       "      <td>77</td>\n",
       "      <td>66</td>\n",
       "    </tr>\n",
       "    <tr>\n",
       "      <th>2019-02-28</th>\n",
       "      <td>2</td>\n",
       "      <td>3293731</td>\n",
       "      <td>802415</td>\n",
       "      <td>23777</td>\n",
       "      <td>1994</td>\n",
       "      <td>68</td>\n",
       "      <td>49</td>\n",
       "    </tr>\n",
       "    <tr>\n",
       "      <th>2019-03-31</th>\n",
       "      <td>3</td>\n",
       "      <td>5903504</td>\n",
       "      <td>1675303</td>\n",
       "      <td>33748</td>\n",
       "      <td>2020</td>\n",
       "      <td>411</td>\n",
       "      <td>41</td>\n",
       "    </tr>\n",
       "    <tr>\n",
       "      <th>2019-04-30</th>\n",
       "      <td>4</td>\n",
       "      <td>6061874</td>\n",
       "      <td>1909305</td>\n",
       "      <td>33399</td>\n",
       "      <td>2389</td>\n",
       "      <td>133</td>\n",
       "      <td>43</td>\n",
       "    </tr>\n",
       "    <tr>\n",
       "      <th>2019-05-31</th>\n",
       "      <td>5</td>\n",
       "      <td>6938249</td>\n",
       "      <td>2283756</td>\n",
       "      <td>37130</td>\n",
       "      <td>2463</td>\n",
       "      <td>77</td>\n",
       "      <td>55</td>\n",
       "    </tr>\n",
       "  </tbody>\n",
       "</table>\n",
       "</div>"
      ],
      "text/plain": [
       "            Month     Rent     Fees  Total Nights Sold  Starting Units  \\\n",
       "Date                                                                     \n",
       "2019-01-31      1  2819632   768131              21058            1965   \n",
       "2019-02-28      2  3293731   802415              23777            1994   \n",
       "2019-03-31      3  5903504  1675303              33748            2020   \n",
       "2019-04-30      4  6061874  1909305              33399            2389   \n",
       "2019-05-31      5  6938249  2283756              37130            2463   \n",
       "\n",
       "            New Units  Lost Units  \n",
       "Date                               \n",
       "2019-01-31         77          66  \n",
       "2019-02-28         68          49  \n",
       "2019-03-31        411          41  \n",
       "2019-04-30        133          43  \n",
       "2019-05-31         77          55  "
      ]
     },
     "execution_count": 170,
     "metadata": {},
     "output_type": "execute_result"
    }
   ],
   "source": [
    "# Create date index, order columns and groups by date eliminating Market\n",
    "\n",
    "from pandas.tseries.offsets import MonthEnd\n",
    "\n",
    "org_data_set['YearMonth'] = org_data_set['Year'].astype(str)+org_data_set['Month'].astype(str)\n",
    "\n",
    "org_data_set['Date']= pd.to_datetime(org_data_set['YearMonth'], format=\"%Y%m\") + MonthEnd(1)\n",
    "\n",
    "col_drop1 = ['YearMonth']\n",
    "#col_drop1 = ['Year','Month', 'YearMonth'] \n",
    "\n",
    "column_order = ['Month','Rent','Fees','Total Nights Sold',\n",
    "               'Starting Units','New Units','Lost Units']\n",
    "\n",
    "org_data_set = org_data_set.drop(columns = 'Month').groupby('Date').sum()\n",
    "\n",
    "org_data_set['Month'] = pd.DatetimeIndex(org_data_set.index).month\n",
    "org_data_set = org_data_set.reindex(columns = column_order)#.set_index(['Date']).sort_index()\n",
    "\n",
    "org_data_set.head()"
   ]
  },
  {
   "cell_type": "code",
   "execution_count": 171,
   "id": "03de8535",
   "metadata": {},
   "outputs": [
    {
     "data": {
      "text/plain": [
       "<AxesSubplot:xlabel='Date'>"
      ]
     },
     "execution_count": 171,
     "metadata": {},
     "output_type": "execute_result"
    },
    {
     "data": {
      "image/png": "[encoded data removed]",
      "text/plain": [
       "<Figure size 720x288 with 1 Axes>"
      ]
     },
     "metadata": {
      "needs_background": "light"
     },
     "output_type": "display_data"
    }
   ],
   "source": [
    "#Nights graph to observe data\n",
    "org_data_set['Total Nights Sold'].plot.line( figsize = (10,4), legend = True )"
   ]
  },
  {
   "cell_type": "code",
   "execution_count": 176,
   "id": "c6ab7328",
   "metadata": {
    "scrolled": true
   },
   "outputs": [],
   "source": [
    "# Set up data to calculate outlier months in 2020 (COVID) at Market level.\n",
    "pd.options.mode.chained_assignment = None  # default='warn'\n",
    "\n",
    "#Update as needed:\n",
    "#----------------------------------------------------------------|\n",
    "time_range_comparable = slice('2021-02-28','2021-06-30')# needs an additional month\n",
    "time_covid_start = '2020-02-29'\n",
    "time_covid_period = slice('2020-02-29','2020-05-31')\n",
    "col_drop2 = ['Starting Units','New Units','Lost Units']\n",
    "col_drop3 = ['Rent','Fees','Total Nights Sold']\n",
    "\n",
    "#Gets the data needed for the calculation comparable and covid period\n",
    "comparable_period = org_data_set.loc[(time_range_comparable),:].reset_index().drop(columns = col_drop2 )\n",
    "time_covid_start = org_data_set.loc[(time_covid_start),:]\n",
    "unchanged_cols_covid_2020 = org_data_set.loc[(time_covid_period),:].reset_index().drop(columns = col_drop3 )\n",
    "#----------------------------------------------------------------|\n",
    "\n",
    "#Update as needed:\n",
    "#---------------------------------------------------------------|\n",
    "col1 = 'Rent'\n",
    "col2 = 'Fees'\n",
    "col3 = 'Total Nights Sold'\n",
    "delta_col1_name = 'Rent_delta'\n",
    "delta_col2_name = 'Fees_delta'\n",
    "delta_col3_name = 'Total Nights Sold_delta'\n",
    "\n",
    "#Creates the % change from month to month\n",
    "comparable_period[delta_col1_name] = comparable_period[col1].pct_change(periods = 1)\n",
    "comparable_period[delta_col2_name] = comparable_period[col2].pct_change(periods = 1)\n",
    "comparable_period[delta_col3_name] = comparable_period[col3].pct_change(periods = 1)\n",
    "comparable_period = comparable_period.drop(columns = col_drop3).dropna()\n",
    "#---------------------------------------------------------------|\n",
    "\n",
    "#Creates date column for covid period\n",
    "covid_dates = unchanged_cols_covid_2020.iloc[:,0]"
   ]
  },
  {
   "cell_type": "code",
   "execution_count": 179,
   "id": "cc6ed277",
   "metadata": {},
   "outputs": [
    {
     "name": "stdout",
     "output_type": "stream",
     "text": [
      "Recalculated Rent: [19164643.998975527, 20455433.33063644, 24791077.62514242, 42275045.62593184]\n"
     ]
    },
    {
     "data": {
      "text/html": [
       "<div>\n",
       "<style scoped>\n",
       "    .dataframe tbody tr th:only-of-type {\n",
       "        vertical-align: middle;\n",
       "    }\n",
       "\n",
       "    .dataframe tbody tr th {\n",
       "        vertical-align: top;\n",
       "    }\n",
       "\n",
       "    .dataframe thead th {\n",
       "        text-align: right;\n",
       "    }\n",
       "</style>\n",
       "<table border=\"1\" class=\"dataframe\">\n",
       "  <thead>\n",
       "    <tr style=\"text-align: right;\">\n",
       "      <th></th>\n",
       "      <th>Month</th>\n",
       "      <th>Rent</th>\n",
       "      <th>Fees</th>\n",
       "      <th>Total Nights Sold</th>\n",
       "      <th>Starting Units</th>\n",
       "      <th>New Units</th>\n",
       "      <th>Lost Units</th>\n",
       "    </tr>\n",
       "    <tr>\n",
       "      <th>Date</th>\n",
       "      <th></th>\n",
       "      <th></th>\n",
       "      <th></th>\n",
       "      <th></th>\n",
       "      <th></th>\n",
       "      <th></th>\n",
       "      <th></th>\n",
       "    </tr>\n",
       "  </thead>\n",
       "  <tbody>\n",
       "    <tr>\n",
       "      <th>2020-02-29</th>\n",
       "      <td>2</td>\n",
       "      <td>19164643.99898</td>\n",
       "      <td>5842868.20481</td>\n",
       "      <td>95896.15231</td>\n",
       "      <td>5887</td>\n",
       "      <td>360</td>\n",
       "      <td>111</td>\n",
       "    </tr>\n",
       "    <tr>\n",
       "      <th>2020-03-31</th>\n",
       "      <td>3</td>\n",
       "      <td>20455433.33064</td>\n",
       "      <td>6813731.06730</td>\n",
       "      <td>110065.53609</td>\n",
       "      <td>6145</td>\n",
       "      <td>98</td>\n",
       "      <td>99</td>\n",
       "    </tr>\n",
       "    <tr>\n",
       "      <th>2020-04-30</th>\n",
       "      <td>4</td>\n",
       "      <td>24791077.62514</td>\n",
       "      <td>7827033.69850</td>\n",
       "      <td>121643.39561</td>\n",
       "      <td>6141</td>\n",
       "      <td>34</td>\n",
       "      <td>133</td>\n",
       "    </tr>\n",
       "    <tr>\n",
       "      <th>2020-05-31</th>\n",
       "      <td>5</td>\n",
       "      <td>42275045.62593</td>\n",
       "      <td>10224111.34004</td>\n",
       "      <td>141139.98211</td>\n",
       "      <td>6013</td>\n",
       "      <td>59</td>\n",
       "      <td>122</td>\n",
       "    </tr>\n",
       "  </tbody>\n",
       "</table>\n",
       "</div>"
      ],
      "text/plain": [
       "            Month           Rent           Fees  Total Nights Sold  \\\n",
       "Date                                                                 \n",
       "2020-02-29      2 19164643.99898  5842868.20481        95896.15231   \n",
       "2020-03-31      3 20455433.33064  6813731.06730       110065.53609   \n",
       "2020-04-30      4 24791077.62514  7827033.69850       121643.39561   \n",
       "2020-05-31      5 42275045.62593 10224111.34004       141139.98211   \n",
       "\n",
       "            Starting Units  New Units  Lost Units  \n",
       "Date                                               \n",
       "2020-02-29            5887        360         111  \n",
       "2020-03-31            6145         98          99  \n",
       "2020-04-30            6141         34         133  \n",
       "2020-05-31            6013         59         122  "
      ]
     },
     "execution_count": 179,
     "metadata": {},
     "output_type": "execute_result"
    }
   ],
   "source": [
    "# Recalculation of  outlier columns in months of 2020 (COVID)\n",
    "#----------------------------------------------------------------|\n",
    "#Update as needed:\n",
    "col = 'Rent'\n",
    "col_delta = col+'_delta'\n",
    "\n",
    "#adds values to be transforms into lists\n",
    "attribute = list()\n",
    "attribute = [time_covid_start[col]]\n",
    "pct_change = list()\n",
    "pct_change = [x for x in comparable_period[col_delta]]\n",
    "covid_dates = [x for x in covid_dates]\n",
    "covid_outlier_ouput = dict()\n",
    "    \n",
    "for i in range(len(pct_change)):\n",
    "    if i == 0: attribute.append(attribute[0]*(1+pct_change[0]))  \n",
    "    else: attribute.append(attribute[i]*(1+pct_change[i]))\n",
    "print('Recalculated'+' '+col+':',attribute[1:])\n",
    "        \n",
    "for i in range(len(attribute)-1):\n",
    "    covid_outlier_ouput[covid_dates[i]] = attribute[i+1]\n",
    "#----------------------------------------------------------------|\n",
    "    \n",
    "#----------------------------------------------------------------|\n",
    "#Update as needed:\n",
    "column_order1 = ['Month','Rent','Fees','Total Nights Sold',\n",
    "               'Starting Units','New Units','Lost Units']\n",
    "\n",
    "unchanged_cols_covid_2020[col] = unchanged_cols_covid_2020.Date.map(covid_outlier_ouput)\n",
    "\n",
    "updated_cols_covid_2020 = unchanged_cols_covid_2020.set_index(['Date'],\n",
    "                                drop = True).reindex(columns = column_order1)\n",
    "updated_cols_covid_2020\n",
    "#----------------------------------------------------------------|"
   ]
  },
  {
   "cell_type": "code",
   "execution_count": 181,
   "id": "6edca89c",
   "metadata": {},
   "outputs": [],
   "source": [
    "#Get data by columns without outlier and appends updated outlier data.\n",
    "\n",
    "Agg_df = org_data_set.drop( index = covid_dates)\n",
    "Agg_df = Agg_df.append(updated_cols_covid_2020).sort_index()"
   ]
  },
  {
   "cell_type": "code",
   "execution_count": 182,
   "id": "27b92044",
   "metadata": {
    "scrolled": true
   },
   "outputs": [
    {
     "data": {
      "text/plain": [
       "<AxesSubplot:xlabel='Date'>"
      ]
     },
     "execution_count": 182,
     "metadata": {},
     "output_type": "execute_result"
    },
    {
     "data": {
      "image/png": "[encoded data removed]",
      "text/plain": [
       "<Figure size 720x288 with 1 Axes>"
      ]
     },
     "metadata": {
      "needs_background": "light"
     },
     "output_type": "display_data"
    }
   ],
   "source": [
    "org_data_set['Total Nights Sold'].plot.line( figsize = (10,4), legend = True )\n",
    "Agg_df['Total Nights Sold'].plot.line( figsize = (10,4), legend = True )"
   ]
  },
  {
   "cell_type": "code",
   "execution_count": 183,
   "id": "441261f0",
   "metadata": {},
   "outputs": [],
   "source": [
    "#caluculate inventory\n",
    "Agg_df['inventory'] = (Agg_df['Starting Units']+Agg_df['New Units'])-Agg_df['Lost Units']\n",
    "\n",
    "#Dummy Variables\n",
    "Agg_df = pd.get_dummies(Agg_df, columns = ['Month'], drop_first = True)"
   ]
  },
  {
   "cell_type": "code",
   "execution_count": 184,
   "id": "d85f3b12",
   "metadata": {},
   "outputs": [
    {
     "data": {
      "text/html": [
       "<div>\n",
       "<style scoped>\n",
       "    .dataframe tbody tr th:only-of-type {\n",
       "        vertical-align: middle;\n",
       "    }\n",
       "\n",
       "    .dataframe tbody tr th {\n",
       "        vertical-align: top;\n",
       "    }\n",
       "\n",
       "    .dataframe thead th {\n",
       "        text-align: right;\n",
       "    }\n",
       "</style>\n",
       "<table border=\"1\" class=\"dataframe\">\n",
       "  <thead>\n",
       "    <tr style=\"text-align: right;\">\n",
       "      <th></th>\n",
       "      <th>Rent</th>\n",
       "      <th>Fees</th>\n",
       "      <th>Total Nights Sold</th>\n",
       "      <th>Starting Units</th>\n",
       "      <th>New Units</th>\n",
       "      <th>Lost Units</th>\n",
       "      <th>inventory</th>\n",
       "      <th>Month_2</th>\n",
       "      <th>Month_3</th>\n",
       "      <th>Month_4</th>\n",
       "      <th>Month_5</th>\n",
       "      <th>Month_6</th>\n",
       "      <th>Month_7</th>\n",
       "      <th>Month_8</th>\n",
       "      <th>Month_9</th>\n",
       "      <th>Month_10</th>\n",
       "      <th>Month_11</th>\n",
       "      <th>Month_12</th>\n",
       "    </tr>\n",
       "    <tr>\n",
       "      <th>Date</th>\n",
       "      <th></th>\n",
       "      <th></th>\n",
       "      <th></th>\n",
       "      <th></th>\n",
       "      <th></th>\n",
       "      <th></th>\n",
       "      <th></th>\n",
       "      <th></th>\n",
       "      <th></th>\n",
       "      <th></th>\n",
       "      <th></th>\n",
       "      <th></th>\n",
       "      <th></th>\n",
       "      <th></th>\n",
       "      <th></th>\n",
       "      <th></th>\n",
       "      <th></th>\n",
       "      <th></th>\n",
       "    </tr>\n",
       "  </thead>\n",
       "  <tbody>\n",
       "    <tr>\n",
       "      <th>2019-01-31</th>\n",
       "      <td>2819632.00000</td>\n",
       "      <td>768131.00000</td>\n",
       "      <td>21058.00000</td>\n",
       "      <td>1965</td>\n",
       "      <td>77</td>\n",
       "      <td>66</td>\n",
       "      <td>1976</td>\n",
       "      <td>0</td>\n",
       "      <td>0</td>\n",
       "      <td>0</td>\n",
       "      <td>0</td>\n",
       "      <td>0</td>\n",
       "      <td>0</td>\n",
       "      <td>0</td>\n",
       "      <td>0</td>\n",
       "      <td>0</td>\n",
       "      <td>0</td>\n",
       "      <td>0</td>\n",
       "    </tr>\n",
       "    <tr>\n",
       "      <th>2019-02-28</th>\n",
       "      <td>3293731.00000</td>\n",
       "      <td>802415.00000</td>\n",
       "      <td>23777.00000</td>\n",
       "      <td>1994</td>\n",
       "      <td>68</td>\n",
       "      <td>49</td>\n",
       "      <td>2013</td>\n",
       "      <td>1</td>\n",
       "      <td>0</td>\n",
       "      <td>0</td>\n",
       "      <td>0</td>\n",
       "      <td>0</td>\n",
       "      <td>0</td>\n",
       "      <td>0</td>\n",
       "      <td>0</td>\n",
       "      <td>0</td>\n",
       "      <td>0</td>\n",
       "      <td>0</td>\n",
       "    </tr>\n",
       "    <tr>\n",
       "      <th>2019-03-31</th>\n",
       "      <td>5903504.00000</td>\n",
       "      <td>1675303.00000</td>\n",
       "      <td>33748.00000</td>\n",
       "      <td>2020</td>\n",
       "      <td>411</td>\n",
       "      <td>41</td>\n",
       "      <td>2390</td>\n",
       "      <td>0</td>\n",
       "      <td>1</td>\n",
       "      <td>0</td>\n",
       "      <td>0</td>\n",
       "      <td>0</td>\n",
       "      <td>0</td>\n",
       "      <td>0</td>\n",
       "      <td>0</td>\n",
       "      <td>0</td>\n",
       "      <td>0</td>\n",
       "      <td>0</td>\n",
       "    </tr>\n",
       "    <tr>\n",
       "      <th>2019-04-30</th>\n",
       "      <td>6061874.00000</td>\n",
       "      <td>1909305.00000</td>\n",
       "      <td>33399.00000</td>\n",
       "      <td>2389</td>\n",
       "      <td>133</td>\n",
       "      <td>43</td>\n",
       "      <td>2479</td>\n",
       "      <td>0</td>\n",
       "      <td>0</td>\n",
       "      <td>1</td>\n",
       "      <td>0</td>\n",
       "      <td>0</td>\n",
       "      <td>0</td>\n",
       "      <td>0</td>\n",
       "      <td>0</td>\n",
       "      <td>0</td>\n",
       "      <td>0</td>\n",
       "      <td>0</td>\n",
       "    </tr>\n",
       "    <tr>\n",
       "      <th>2019-05-31</th>\n",
       "      <td>6938249.00000</td>\n",
       "      <td>2283756.00000</td>\n",
       "      <td>37130.00000</td>\n",
       "      <td>2463</td>\n",
       "      <td>77</td>\n",
       "      <td>55</td>\n",
       "      <td>2485</td>\n",
       "      <td>0</td>\n",
       "      <td>0</td>\n",
       "      <td>0</td>\n",
       "      <td>1</td>\n",
       "      <td>0</td>\n",
       "      <td>0</td>\n",
       "      <td>0</td>\n",
       "      <td>0</td>\n",
       "      <td>0</td>\n",
       "      <td>0</td>\n",
       "      <td>0</td>\n",
       "    </tr>\n",
       "  </tbody>\n",
       "</table>\n",
       "</div>"
      ],
      "text/plain": [
       "                    Rent          Fees  Total Nights Sold  Starting Units  \\\n",
       "Date                                                                        \n",
       "2019-01-31 2819632.00000  768131.00000        21058.00000            1965   \n",
       "2019-02-28 3293731.00000  802415.00000        23777.00000            1994   \n",
       "2019-03-31 5903504.00000 1675303.00000        33748.00000            2020   \n",
       "2019-04-30 6061874.00000 1909305.00000        33399.00000            2389   \n",
       "2019-05-31 6938249.00000 2283756.00000        37130.00000            2463   \n",
       "\n",
       "            New Units  Lost Units  inventory  Month_2  Month_3  Month_4  \\\n",
       "Date                                                                      \n",
       "2019-01-31         77          66       1976        0        0        0   \n",
       "2019-02-28         68          49       2013        1        0        0   \n",
       "2019-03-31        411          41       2390        0        1        0   \n",
       "2019-04-30        133          43       2479        0        0        1   \n",
       "2019-05-31         77          55       2485        0        0        0   \n",
       "\n",
       "            Month_5  Month_6  Month_7  Month_8  Month_9  Month_10  Month_11  \\\n",
       "Date                                                                          \n",
       "2019-01-31        0        0        0        0        0         0         0   \n",
       "2019-02-28        0        0        0        0        0         0         0   \n",
       "2019-03-31        0        0        0        0        0         0         0   \n",
       "2019-04-30        0        0        0        0        0         0         0   \n",
       "2019-05-31        1        0        0        0        0         0         0   \n",
       "\n",
       "            Month_12  \n",
       "Date                  \n",
       "2019-01-31         0  \n",
       "2019-02-28         0  \n",
       "2019-03-31         0  \n",
       "2019-04-30         0  \n",
       "2019-05-31         0  "
      ]
     },
     "execution_count": 184,
     "metadata": {},
     "output_type": "execute_result"
    }
   ],
   "source": [
    "Agg_df.head()"
   ]
  },
  {
   "cell_type": "code",
   "execution_count": null,
   "id": "00908edb",
   "metadata": {},
   "outputs": [],
   "source": []
  }
 ],
 "metadata": {
  "kernelspec": {
   "display_name": "Python 3",
   "language": "python",
   "name": "python3"
  },
  "language_info": {
   "codemirror_mode": {
    "name": "ipython",
    "version": 3
   },
   "file_extension": ".py",
   "mimetype": "text/x-python",
   "name": "python",
   "nbconvert_exporter": "python",
   "pygments_lexer": "ipython3",
   "version": "3.8.8"
  }
 },
 "nbformat": 4,
 "nbformat_minor": 5
}
